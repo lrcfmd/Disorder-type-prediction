{
 "cells": [
  {
   "cell_type": "code",
   "execution_count": 3,
   "id": "804762f7-50a0-4d8b-9056-06fc2954f488",
   "metadata": {},
   "outputs": [],
   "source": [
    "import numpy as np\n",
    "import pandas as pd\n",
    "from matminer.featurizers.composition import ElementProperty, Stoichiometry \n",
    "from matminer.featurizers.composition import ValenceOrbital, IonProperty, AtomicOrbitals\n",
    "from matplotlib import pyplot as plt\n",
    "from matminer.datasets import load_dataset\n",
    "from matminer.featurizers.base import MultipleFeaturizer\n",
    "\n",
    "from matminer.featurizers.conversions import DictToObject, StrToComposition\n",
    "from sklearn.ensemble import RandomForestRegressor,RandomForestClassifier\n",
    "from sklearn.model_selection import ShuffleSplit, train_test_split\n",
    "from sklearn.pipeline import Pipeline\n",
    "from sklearn.impute import SimpleImputer\n",
    "from scipy import stats\n",
    "from tqdm import tqdm_notebook as tqdm\n",
    "\n",
    "from pymatgen.core.composition import Composition"
   ]
  },
  {
   "cell_type": "markdown",
   "id": "69052db3-501c-47b7-bb8a-d7e9ac1d287f",
   "metadata": {},
   "source": [
    "## Loading data and featurizing compositions"
   ]
  },
  {
   "cell_type": "code",
   "execution_count": 4,
   "id": "d38a132a-cc61-4811-8d5b-a608477c5342",
   "metadata": {},
   "outputs": [
    {
     "data": {
      "text/html": [
       "<div>\n",
       "<style scoped>\n",
       "    .dataframe tbody tr th:only-of-type {\n",
       "        vertical-align: middle;\n",
       "    }\n",
       "\n",
       "    .dataframe tbody tr th {\n",
       "        vertical-align: top;\n",
       "    }\n",
       "\n",
       "    .dataframe thead th {\n",
       "        text-align: right;\n",
       "    }\n",
       "</style>\n",
       "<table border=\"1\" class=\"dataframe\">\n",
       "  <thead>\n",
       "    <tr style=\"text-align: right;\">\n",
       "      <th></th>\n",
       "      <th>formula</th>\n",
       "      <th>target</th>\n",
       "    </tr>\n",
       "  </thead>\n",
       "  <tbody>\n",
       "    <tr>\n",
       "      <th>0</th>\n",
       "      <td>Ca0.9 Cr0.2 Cu2 O7 Sr2 Tl0.9</td>\n",
       "      <td>3</td>\n",
       "    </tr>\n",
       "    <tr>\n",
       "      <th>1</th>\n",
       "      <td>Cu1 Mo0.3 O6 Sr2 W0.7</td>\n",
       "      <td>1</td>\n",
       "    </tr>\n",
       "    <tr>\n",
       "      <th>2</th>\n",
       "      <td>Cl6 K3 Rh1</td>\n",
       "      <td>0</td>\n",
       "    </tr>\n",
       "    <tr>\n",
       "      <th>3</th>\n",
       "      <td>B0.2 Cr3 P0.8</td>\n",
       "      <td>1</td>\n",
       "    </tr>\n",
       "    <tr>\n",
       "      <th>4</th>\n",
       "      <td>Cu1 Ge1 Se7 Tb3</td>\n",
       "      <td>0</td>\n",
       "    </tr>\n",
       "  </tbody>\n",
       "</table>\n",
       "</div>"
      ],
      "text/plain": [
       "                        formula  target\n",
       "0  Ca0.9 Cr0.2 Cu2 O7 Sr2 Tl0.9       3\n",
       "1         Cu1 Mo0.3 O6 Sr2 W0.7       1\n",
       "2                    Cl6 K3 Rh1       0\n",
       "3                 B0.2 Cr3 P0.8       1\n",
       "4               Cu1 Ge1 Se7 Tb3       0"
      ]
     },
     "execution_count": 4,
     "metadata": {},
     "output_type": "execute_result"
    }
   ],
   "source": [
    "df_train=pd.read_csv('data/crabnet_data_type/train.csv',usecols=['formula', 'target'])\n",
    "df_test=pd.read_csv('data/crabnet_data_type/test.csv',usecols=['formula', 'target'])\n",
    "df_train.head(5)"
   ]
  },
  {
   "cell_type": "code",
   "execution_count": 5,
   "id": "f2c3fd64-6b22-40f4-8e38-ba2d62492fd8",
   "metadata": {},
   "outputs": [],
   "source": [
    "df_train['composition']=[Composition(df_train.iloc[i]['formula']).fractional_composition for i in range(len(df_train))]\n",
    "df_test['composition']=[Composition(df_test.iloc[i]['formula']).fractional_composition for i in range(len(df_test))]"
   ]
  },
  {
   "cell_type": "code",
   "execution_count": 6,
   "id": "31153eb8-3cef-4216-b537-ea1026f5bbcb",
   "metadata": {},
   "outputs": [],
   "source": [
    "featurizer = MultipleFeaturizer([\n",
    "    ElementProperty.from_preset('magpie'),\n",
    "    Stoichiometry(),\n",
    "    ValenceOrbital()\n",
    "])\n",
    "flen=len(featurizer.featurize(df_train['composition'][0]))\n",
    "features_train=np.zeros((len(df_train),flen))\n",
    "features_test=np.zeros((len(df_test),flen))\n",
    "for i,comp in enumerate(df_train['composition']):\n",
    "    features_train[i,:]=featurizer.featurize(comp)\n",
    "for i,comp in enumerate(df_test['composition']):\n",
    "    features_test[i,:]=featurizer.featurize(comp)\n",
    "features_train=np.nan_to_num(features_train, copy=True, nan=0.0, posinf=None, neginf=None)\n",
    "features_test=np.nan_to_num(features_test, copy=True, nan=0.0, posinf=None, neginf=None)"
   ]
  },
  {
   "cell_type": "code",
   "execution_count": 7,
   "id": "2ab0e96a-8008-48a1-a55b-88c975d94933",
   "metadata": {},
   "outputs": [],
   "source": [
    "ytrain=df_train['target'].values\n",
    "ytest=df_test['target'].values\n",
    "Xtrain=features_train\n",
    "Xtest=features_test"
   ]
  },
  {
   "cell_type": "code",
   "execution_count": 18,
   "id": "c6c431e6-faf4-4a13-adcd-bf06dbf33b7d",
   "metadata": {},
   "outputs": [],
   "source": [
    "from sklearn.metrics import f1_score,balanced_accuracy_score, accuracy_score, matthews_corrcoef\n",
    "from sklearn.metrics import average_precision_score, recall_score, confusion_matrix, ConfusionMatrixDisplay\n",
    "\n",
    "balanced_accuracy=[]\n",
    "f1=[]\n",
    "precision=[]\n",
    "recall=[]\n",
    "roc_auc=[]\n",
    "mc=[]\n",
    "test_size=0.2\n",
    "y_pred_array=np.zeros((5,len(df_test)))\n",
    "\n",
    "for i in range(42,42+5):\n",
    "    RF=RandomForestClassifier()\n",
    "    RF.fit(Xtrain,ytrain)\n",
    "    ypred=RF.predict(Xtest)\n",
    "    y_pred_array[i-42,:]=ypred\n",
    "    f1.append(f1_score(ytest,ypred,average='macro'))\n",
    "    precision.append(average_precision_score(ytest,ypred.reshape(-1, 1),average='macro'))\n",
    "    recall.append(recall_score(ytest,ypred,average='macro'))\n",
    "    balanced_accuracy.append(balanced_accuracy_score(ytest,ypred))\n",
    "    mc.append(matthews_corrcoef(ytest,ypred))"
   ]
  },
  {
   "cell_type": "code",
   "execution_count": 32,
   "id": "a8499f83",
   "metadata": {},
   "outputs": [
    {
     "data": {
      "image/png": "[encoded data removed]",
      "text/plain": [
       "<Figure size 640x480 with 2 Axes>"
      ]
     },
     "metadata": {},
     "output_type": "display_data"
    }
   ],
   "source": [
    "cm=confusion_matrix(ytest,ypred)\n",
    "disp = ConfusionMatrixDisplay(confusion_matrix=cm, display_labels=['O','S','V','M'])\n",
    "disp.plot()\n",
    "plt.show()"
   ]
  },
  {
   "cell_type": "code",
   "execution_count": 21,
   "id": "0e918adc-b6e6-4dea-8952-4f3e754fc6b3",
   "metadata": {},
   "outputs": [
    {
     "data": {
      "text/plain": [
       "(0.7660999458676887, 0.0006646068560663582)"
      ]
     },
     "execution_count": 21,
     "metadata": {},
     "output_type": "execute_result"
    }
   ],
   "source": [
    "mean_f1=np.mean(f1)\n",
    "std_f1=np.std(f1)\n",
    "mean_f1, std_f1"
   ]
  },
  {
   "cell_type": "code",
   "execution_count": 22,
   "id": "3a3873eb-21de-4d72-8b7e-c5a561cc0cf8",
   "metadata": {},
   "outputs": [
    {
     "data": {
      "text/plain": [
       "(0.3461486541458451, 0.00015229497530224365)"
      ]
     },
     "execution_count": 22,
     "metadata": {},
     "output_type": "execute_result"
    }
   ],
   "source": [
    "mean_precision=np.mean(precision)\n",
    "std_precision=np.std(precision)\n",
    "mean_precision, std_precision"
   ]
  },
  {
   "cell_type": "code",
   "execution_count": 23,
   "id": "e082a635-8d99-45da-a7e1-2daaf10e89e8",
   "metadata": {},
   "outputs": [
    {
     "data": {
      "text/plain": [
       "(0.7473228145155084, 0.0004767432377695068)"
      ]
     },
     "execution_count": 23,
     "metadata": {},
     "output_type": "execute_result"
    }
   ],
   "source": [
    "mean_recall=np.mean(recall)\n",
    "std_recall=np.std(recall)\n",
    "mean_recall, std_recall"
   ]
  },
  {
   "cell_type": "code",
   "execution_count": 25,
   "id": "93881e3c-424c-46a7-bf82-bfcf9365f5a9",
   "metadata": {},
   "outputs": [
    {
     "data": {
      "text/plain": [
       "(0.7473228145155084, 0.0004767432377695068)"
      ]
     },
     "execution_count": 25,
     "metadata": {},
     "output_type": "execute_result"
    }
   ],
   "source": [
    "mean_ba=np.mean(balanced_accuracy)\n",
    "std_ba=np.std(balanced_accuracy)\n",
    "mean_ba, std_ba"
   ]
  },
  {
   "cell_type": "code",
   "execution_count": 26,
   "id": "5e960be4-4921-4cb2-aad9-59ae538f158e",
   "metadata": {},
   "outputs": [
    {
     "data": {
      "text/plain": [
       "(0.7306347917604934, 0.0007986981161830763)"
      ]
     },
     "execution_count": 26,
     "metadata": {},
     "output_type": "execute_result"
    }
   ],
   "source": [
    "mean_mc=np.mean(mc)\n",
    "std_mc=np.std(mc)\n",
    "mean_mc, std_mc"
   ]
  },
  {
   "cell_type": "code",
   "execution_count": null,
   "id": "323fef1f-c78d-4278-b410-090e1bb4b8fd",
   "metadata": {},
   "outputs": [],
   "source": []
  },
  {
   "cell_type": "code",
   "execution_count": null,
   "id": "02c9a5ff-eb13-4c62-bed4-0b80e3e07597",
   "metadata": {},
   "outputs": [],
   "source": []
  }
 ],
 "metadata": {
  "kernelspec": {
   "display_name": "Python 3 (ipykernel)",
   "language": "python",
   "name": "python3"
  },
  "language_info": {
   "codemirror_mode": {
    "name": "ipython",
    "version": 3
   },
   "file_extension": ".py",
   "mimetype": "text/x-python",
   "name": "python",
   "nbconvert_exporter": "python",
   "pygments_lexer": "ipython3",
   "version": "3.9.19"
  }
 },
 "nbformat": 4,
 "nbformat_minor": 5
}
